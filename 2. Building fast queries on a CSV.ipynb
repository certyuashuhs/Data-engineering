{
 "cells": [
  {
   "cell_type": "markdown",
   "id": "3bcc1cd3",
   "metadata": {},
   "source": [
    "## Guided Project: Building Fast Queries on a CSV\n",
    "\n",
    "The following project focusses on building fast queries (improved algorithms) by making use of laptop inventory information.\n",
    "There will be made use of the laptops.csv file as inventory. This CSV file was adapted from the Laptop Prices dataset on Kaggle."
   ]
  },
  {
   "cell_type": "code",
   "execution_count": 1,
   "id": "b5a4d10a",
   "metadata": {},
   "outputs": [
    {
     "name": "stdout",
     "output_type": "stream",
     "text": [
      "['Id', 'Company', 'Product', 'TypeName', 'Inches', 'ScreenResolution', 'Cpu', 'Ram', 'Memory', 'Gpu', 'OpSys', 'Weight', 'Price']\n",
      "['6571244', 'Apple', 'MacBook Pro', 'Ultrabook', '13.3', 'IPS Panel Retina Display 2560x1600', 'Intel Core i5 2.3GHz', '8GB', '128GB SSD', 'Intel Iris Plus Graphics 640', 'macOS', '1.37kg', '1339']\n",
      "['7287764', 'Apple', 'Macbook Air', 'Ultrabook', '13.3', '1440x900', 'Intel Core i5 1.8GHz', '8GB', '128GB Flash Storage', 'Intel HD Graphics 6000', 'macOS', '1.34kg', '898']\n",
      "['3362737', 'HP', '250 G6', 'Notebook', '15.6', 'Full HD 1920x1080', 'Intel Core i5 7200U 2.5GHz', '8GB', '256GB SSD', 'Intel HD Graphics 620', 'No OS', '1.86kg', '575']\n",
      "['9722156', 'Apple', 'MacBook Pro', 'Ultrabook', '15.4', 'IPS Panel Retina Display 2880x1800', 'Intel Core i7 2.7GHz', '16GB', '512GB SSD', 'AMD Radeon Pro 455', 'macOS', '1.83kg', '2537']\n",
      "['8550527', 'Apple', 'MacBook Pro', 'Ultrabook', '13.3', 'IPS Panel Retina Display 2560x1600', 'Intel Core i5 3.1GHz', '8GB', '256GB SSD', 'Intel Iris Plus Graphics 650', 'macOS', '1.37kg', '1803']\n"
     ]
    }
   ],
   "source": [
    "# importing required modules and reading csv file\n",
    "import csv\n",
    "with open('laptops.csv') as file:\n",
    "    reader = csv.reader(file)\n",
    "    all_rows = list(reader)\n",
    "    header = all_rows[0]\n",
    "    rows = all_rows[1:]\n",
    "    \n",
    "# printing header and first 5 rows\n",
    "print(header)\n",
    "for row in rows[:5]:\n",
    "    print(row)    \n"
   ]
  },
  {
   "cell_type": "markdown",
   "id": "a166bc2e",
   "metadata": {},
   "source": [
    "### Implementing an Inventory class"
   ]
  },
  {
   "cell_type": "code",
   "execution_count": 2,
   "id": "8496c423",
   "metadata": {},
   "outputs": [
    {
     "name": "stdout",
     "output_type": "stream",
     "text": [
      "['Id', 'Company', 'Product', 'TypeName', 'Inches', 'ScreenResolution', 'Cpu', 'Ram', 'Memory', 'Gpu', 'OpSys', 'Weight', 'Price']\n",
      "1303\n"
     ]
    }
   ],
   "source": [
    "class Inventory():\n",
    "    def __init__(self, file_name):\n",
    "        with open(file_name) as file:\n",
    "            reader = csv.reader(file)\n",
    "            all_rows = list(reader)\n",
    "        self.header = all_rows[0]\n",
    "        self.rows = all_rows[1:]\n",
    "        for row in self.rows:\n",
    "            row[-1] = int(row[-1]) # changing price row into integers\n",
    "\n",
    "# testing class\n",
    "inventory = Inventory(\"laptops.csv\")\n",
    "print(inventory.header)\n",
    "print(len(inventory.rows))\n"
   ]
  },
  {
   "cell_type": "markdown",
   "id": "834f3d3e",
   "metadata": {},
   "source": [
    "### Finding a Laptop From the Id\n",
    "Implementing a get_laptop_from_id() function that given a laptop identifier find the row corresponding to that laptop."
   ]
  },
  {
   "cell_type": "code",
   "execution_count": 3,
   "id": "92f66724",
   "metadata": {},
   "outputs": [],
   "source": [
    "class Inventory():\n",
    "    def __init__(self, file_name):\n",
    "        with open(file_name) as file:\n",
    "            reader = csv.reader(file)\n",
    "            all_rows = list(reader)\n",
    "        self.header = all_rows[0]\n",
    "        self.rows = all_rows[1:]\n",
    "        for row in self.rows:\n",
    "            row[-1] = int(row[-1]) # changing price row into integers\n",
    "            \n",
    "    def get_laptop_from_id(self, id):\n",
    "        for row in self.rows:\n",
    "            if row[0] == id:\n",
    "                return row\n",
    "        return None # return if nothing is found"
   ]
  },
  {
   "cell_type": "code",
   "execution_count": 4,
   "id": "306b2118",
   "metadata": {},
   "outputs": [
    {
     "name": "stdout",
     "output_type": "stream",
     "text": [
      "['3362737', 'HP', '250 G6', 'Notebook', '15.6', 'Full HD 1920x1080', 'Intel Core i5 7200U 2.5GHz', '8GB', '256GB SSD', 'Intel HD Graphics 620', 'No OS', '1.86kg', 575]\n",
      "None\n"
     ]
    }
   ],
   "source": [
    "# test case for newly created method\n",
    "inventory = Inventory('laptops.csv')           \n",
    "print(inventory.get_laptop_from_id('3362737')) \n",
    "print(inventory.get_laptop_from_id('3362736')) "
   ]
  },
  {
   "cell_type": "markdown",
   "id": "190ec305",
   "metadata": {},
   "source": [
    "### Improving Id Lookups\n",
    "Improving the time complexity of finding a laptop with a given id by precomputing a dictionary that maps laptop ids to rows."
   ]
  },
  {
   "cell_type": "code",
   "execution_count": 5,
   "id": "7e504fd8",
   "metadata": {},
   "outputs": [],
   "source": [
    "class Inventory():\n",
    "    def __init__(self, file_name):\n",
    "        with open(file_name) as file:\n",
    "            reader = csv.reader(file)\n",
    "            all_rows = list(reader)\n",
    "        self.header = all_rows[0]\n",
    "        self.rows = all_rows[1:]\n",
    "        for row in self.rows:\n",
    "            row[-1] = int(row[-1]) # changing price row into integers\n",
    "        self.id_to_row = {}\n",
    "        for row in self.rows:\n",
    "            self.id_to_row[row[0]] = row\n",
    "            \n",
    "    def get_laptop_from_id(self, id):\n",
    "        for row in self.rows:                 \n",
    "            if row[0] == id:\n",
    "                return row\n",
    "        return None   \n",
    "    ## new function for improved lookup speed\n",
    "    def get_laptop_from_id_fast(self, id):   \n",
    "        if id in self.id_to_row:             \n",
    "            return self.id_to_row[id]\n",
    "        return None"
   ]
  },
  {
   "cell_type": "code",
   "execution_count": 6,
   "id": "bc74747c",
   "metadata": {},
   "outputs": [
    {
     "name": "stdout",
     "output_type": "stream",
     "text": [
      "['3362737', 'HP', '250 G6', 'Notebook', '15.6', 'Full HD 1920x1080', 'Intel Core i5 7200U 2.5GHz', '8GB', '256GB SSD', 'Intel HD Graphics 620', 'No OS', '1.86kg', 575]\n",
      "None\n"
     ]
    }
   ],
   "source": [
    "# test case for newly created method\n",
    "inventory = Inventory('laptops.csv')           \n",
    "print(inventory.get_laptop_from_id('3362737')) \n",
    "print(inventory.get_laptop_from_id('3362736')) "
   ]
  },
  {
   "cell_type": "markdown",
   "id": "8b55bd5a",
   "metadata": {},
   "source": [
    "### Comparing Performance\n",
    "Compare the performance of both functions (dictionary (O(1)) vs iteration (O(N)). "
   ]
  },
  {
   "cell_type": "code",
   "execution_count": 7,
   "id": "4c6ebf47",
   "metadata": {},
   "outputs": [
    {
     "name": "stdout",
     "output_type": "stream",
     "text": [
      "0.06583690643310547\n",
      "0.0009832382202148438\n"
     ]
    }
   ],
   "source": [
    "# importing required modules\n",
    "import time\n",
    "import random\n",
    "\n",
    "# Genertating random ids\n",
    "random_ids = [random.randint(1000000, 9999999) for _ in range(1000)]\n",
    "inventory = Inventory('laptops.csv')\n",
    "\n",
    "# test case for iteration method (O(1))\n",
    "total_time_no_dict = 0\n",
    "for id_n in random_ids:\n",
    "    start_time = time.time()\n",
    "    inventory.get_laptop_from_id(id_n)\n",
    "    end_time = time.time()\n",
    "    total_time_no_dict += end_time - start_time\n",
    "    \n",
    "# test case for dictionary method (O(N))\n",
    "total_time_dict = 0\n",
    "for id_n in random_ids:\n",
    "    start_time = time.time()\n",
    "    inventory.get_laptop_from_id_fast(id_n)\n",
    "    end_time = time.time()\n",
    "    total_time_dict += end_time - start_time\n",
    "    \n",
    "print(total_time_no_dict)\n",
    "print(total_time_dict)"
   ]
  },
  {
   "cell_type": "markdown",
   "id": "43ec0ecd",
   "metadata": {},
   "source": [
    "#### Analysis of above\n",
    "For the above we got:\n",
    "\n",
    "- iteration:  0.06583690643310547\n",
    "- dictionary: 0.0009832382202148438\n",
    "\n",
    "One can see a significant improvement in performance. The speed increase is about 67 times when using a dictionary."
   ]
  },
  {
   "cell_type": "markdown",
   "id": "a6158334",
   "metadata": {},
   "source": [
    "### Two Laptop Promotion\n",
    "Below a method was added that finds whether one can spend a given amount of money by purchasing either one or two laptops. The idea is to spend the full amount of a gift card provided (since the gift card can only be uses once and to avoid that a customer feel cheated)."
   ]
  },
  {
   "cell_type": "code",
   "execution_count": 8,
   "id": "dde7071e",
   "metadata": {},
   "outputs": [],
   "source": [
    "class Inventory():\n",
    "    def __init__(self, file_name):\n",
    "        with open(file_name) as file:\n",
    "            reader = csv.reader(file)\n",
    "            all_rows = list(reader)\n",
    "        self.header = all_rows[0]\n",
    "        self.rows = all_rows[1:]\n",
    "        for row in self.rows:\n",
    "            row[-1] = int(row[-1]) # changing price row into integers\n",
    "        self.id_to_row = {}\n",
    "        for row in self.rows:\n",
    "            self.id_to_row[row[0]] = row\n",
    "            \n",
    "    def get_laptop_from_id(self, id):\n",
    "        for row in self.rows:                 \n",
    "            if row[0] == id:\n",
    "                return row\n",
    "        return None   \n",
    "    ## new function for improved lookup speed\n",
    "    def get_laptop_from_id_fast(self, id):   \n",
    "        if id in self.id_to_row:             \n",
    "            return self.id_to_row[id]\n",
    "        return None\n",
    "    \n",
    "    def check_promotion_amounts(self, amount):\n",
    "        for row in self.rows:\n",
    "            price = row[-1]\n",
    "            if price == amount: # inspect if one laptop equates to full gift card amount\n",
    "                return True\n",
    "        for row1 in self.rows:\n",
    "            for row2 in self.rows:\n",
    "                price = row1[-1] + row2[-1]\n",
    "                if price == amount:\n",
    "                    return True\n",
    "        return False               "
   ]
  },
  {
   "cell_type": "code",
   "execution_count": 9,
   "id": "64643a7e",
   "metadata": {},
   "outputs": [
    {
     "name": "stdout",
     "output_type": "stream",
     "text": [
      "True\n",
      "False\n"
     ]
    }
   ],
   "source": [
    "## testing new method\n",
    "inventory = Inventory('laptops.csv')               \n",
    "print(inventory.check_promotion_amounts(1000))     \n",
    "print(inventory.check_promotion_amounts(442))      "
   ]
  },
  {
   "cell_type": "markdown",
   "id": "06e630ad",
   "metadata": {},
   "source": [
    "### Optimizing Laptop Promotion\n",
    "Creating a faster version of the promotion method by using a different technique."
   ]
  },
  {
   "cell_type": "code",
   "execution_count": 10,
   "id": "838eaf84",
   "metadata": {},
   "outputs": [],
   "source": [
    "class Inventory():\n",
    "    def __init__(self, file_name):\n",
    "        with open(file_name) as file:\n",
    "            reader = csv.reader(file)\n",
    "            all_rows = list(reader)\n",
    "        self.header = all_rows[0]\n",
    "        self.rows = all_rows[1:]\n",
    "        for row in self.rows:\n",
    "            row[-1] = int(row[-1])\n",
    "        self.id_to_row = {}\n",
    "        for row in self.rows:\n",
    "            self.id_to_row[row[0]] = row\n",
    "        self.prices = set() ## adding prices set for efficiency in calculating promotions\n",
    "        for row in self.rows:\n",
    "            self.prices.add(row[-1])\n",
    "            \n",
    "    def get_laptop_from_id(self, id):\n",
    "        for row in self.rows:                 \n",
    "            if row[0] == id:\n",
    "                return row\n",
    "        return None   \n",
    "   \n",
    "    def get_laptop_from_id_fast(self, id):   \n",
    "        if id in self.id_to_row:             \n",
    "            return self.id_to_row[id]\n",
    "        return None\n",
    "        return None\n",
    "\n",
    "    def check_promotion_amounts(self, amount):\n",
    "        for row in self.rows:\n",
    "            price = row[-1]\n",
    "            if price == amount: # inspect if one laptop equates to full gift card amount\n",
    "                return True\n",
    "        for row1 in self.rows:\n",
    "            for row2 in self.rows:\n",
    "                price = row1[-1] + row2[-1]\n",
    "                if price == amount:\n",
    "                    return True\n",
    "        return False    \n",
    "    \n",
    "    def check_promotion_amounts_fast(self, amount):\n",
    "        if amount in self.prices:## inspection for one laptop with improved timing\n",
    "            return True\n",
    "        for price in self.prices: ## inspection for two laptops with improved timing\n",
    "            if amount - price in self.prices:\n",
    "                return True\n",
    "        return False    "
   ]
  },
  {
   "cell_type": "code",
   "execution_count": 11,
   "id": "df521cdc",
   "metadata": {},
   "outputs": [
    {
     "name": "stdout",
     "output_type": "stream",
     "text": [
      "True\n",
      "False\n"
     ]
    }
   ],
   "source": [
    "# Testing the method\n",
    "inventory = Inventory('laptops.csv')                 \n",
    "print(inventory.check_promotion_amounts_fast(1000))  \n",
    "print(inventory.check_promotion_amounts_fast(442)) "
   ]
  },
  {
   "cell_type": "markdown",
   "id": "da24a96d",
   "metadata": {},
   "source": [
    "### Comparing Performance\n",
    "Compare the performance of both methods for the promotion (double ietration (O(N²)) vs set iteration (O(N))."
   ]
  },
  {
   "cell_type": "code",
   "execution_count": 12,
   "id": "c06c08ce",
   "metadata": {},
   "outputs": [
    {
     "name": "stdout",
     "output_type": "stream",
     "text": [
      "1.3713688850402832\n",
      "0.0009913444519042969\n"
     ]
    }
   ],
   "source": [
    "prices = [random.randint(100, 5000) for _ in range(100)]\n",
    "\n",
    "inventory = Inventory(\"laptops.csv\")\n",
    "\n",
    "total_time_no_set = 0\n",
    "\n",
    "for price in prices:\n",
    "    start = time.time()\n",
    "    inventory.check_promotion_amounts(price)\n",
    "    end = time.time()\n",
    "    total_time_no_set += end - start\n",
    "    \n",
    "total_time_set = 0\n",
    "\n",
    "for price in prices:\n",
    "    start = time.time()\n",
    "    inventory.check_promotion_amounts_fast(price)\n",
    "    end = time.time()\n",
    "    total_time_set += end - start\n",
    "    \n",
    "print(total_time_no_set)\n",
    "print(total_time_set)    "
   ]
  },
  {
   "cell_type": "markdown",
   "id": "efd56e5f",
   "metadata": {},
   "source": [
    "#### Analysis of above\n",
    "For the above we got:\n",
    "\n",
    "- double iteration:  0.7908847332000732\n",
    "- set iteration: 0.000997304916381836\n",
    "\n",
    "One can see a significant improvement in performance. The speed increase is about 1384 times when using a set."
   ]
  },
  {
   "cell_type": "markdown",
   "id": "29efa623",
   "metadata": {},
   "source": [
    "### Finding Laptops Within a Budget\n",
    "Implementing a method for finding the range of indexes of laptops that fall within a budget."
   ]
  },
  {
   "cell_type": "code",
   "execution_count": 23,
   "id": "c15ab0ce",
   "metadata": {},
   "outputs": [],
   "source": [
    "def row_price(row):\n",
    "    '''creating a function for use in the sorted build in function '''\n",
    "    return row[-1]\n",
    "\n",
    "class Inventory():\n",
    "    def __init__(self, file_name):\n",
    "        with open(file_name) as file:\n",
    "            reader = csv.reader(file)\n",
    "            all_rows = list(reader)\n",
    "        self.header = all_rows[0]\n",
    "        self.rows = all_rows[1:]\n",
    "        for row in self.rows:\n",
    "            row[-1] = int(row[-1])\n",
    "        self.id_to_row = {}\n",
    "        for row in self.rows:\n",
    "            self.id_to_row[row[0]] = row\n",
    "        self.prices = set() \n",
    "        for row in self.rows:\n",
    "            self.prices.add(row[-1])\n",
    "        self.rows_by_price = sorted(self.rows, key = row_price)\n",
    "            \n",
    "    def get_laptop_from_id(self, id):\n",
    "        for row in self.rows:                 \n",
    "            if row[0] == id:\n",
    "                return row\n",
    "        return None   \n",
    "   \n",
    "    def get_laptop_from_id_fast(self, id):   \n",
    "        if id in self.id_to_row:             \n",
    "            return self.id_to_row[id]\n",
    "        return None\n",
    "        return None\n",
    "\n",
    "    def check_promotion_amounts(self, amount):\n",
    "        for row in self.rows:\n",
    "            price = row[-1]\n",
    "            if price == amount: # inspect if one laptop equates to full gift card amount\n",
    "                return True\n",
    "        for row1 in self.rows:\n",
    "            for row2 in self.rows:\n",
    "                price = row1[-1] + row2[-1]\n",
    "                if price == amount:\n",
    "                    return True\n",
    "        return False    \n",
    "    \n",
    "    def check_promotion_amounts_fast(self, amount):\n",
    "        if amount in self.prices:## inspection for one laptop with improved timing\n",
    "            return True\n",
    "        for price in self.prices: ## inspection for two laptops with improved timing\n",
    "            if amount - price in self.prices:\n",
    "                return True\n",
    "        return False\n",
    "    \n",
    "    def find_laptop_with_price(self, target_price):\n",
    "        range_start = 0                                   \n",
    "        range_end = len(self.rows_by_price) - 1                       \n",
    "        while range_start < range_end:\n",
    "            range_middle = (range_end + range_start) // 2  \n",
    "            price = self.rows_by_price[range_middle][-1]\n",
    "            if price == target_price:                            \n",
    "                return range_middle                        \n",
    "            elif price < target_price:                           \n",
    "                range_start = range_middle + 1             \n",
    "            else:                                          \n",
    "                range_end = range_middle - 1 \n",
    "        price = self.rows_by_price[range_start][-1]\n",
    "        if self.rows_by_price[range_start][-1] != target_price:                  \n",
    "            return -1                                      \n",
    "        return range_start\n",
    "    \n",
    "    def find_first_laptop_more_expensive(self, target_price): \n",
    "        range_start = 0                                   \n",
    "        range_end = len(self.rows_by_price) - 1                   \n",
    "        while range_start < range_end:\n",
    "            range_middle = (range_end + range_start) // 2  \n",
    "            price = self.rows_by_price[range_middle][-1]\n",
    "            if price > target_price:\n",
    "                range_end = range_middle\n",
    "            else:\n",
    "                range_start = range_middle + 1\n",
    "        if self.rows_by_price[range_start][-1] <= target_price:                  \n",
    "            return -1                                   \n",
    "        return range_start"
   ]
  },
  {
   "cell_type": "code",
   "execution_count": 24,
   "id": "aa669c4a",
   "metadata": {},
   "outputs": [
    {
     "name": "stdout",
     "output_type": "stream",
     "text": [
      "683\n",
      "-1\n"
     ]
    }
   ],
   "source": [
    "## Testing the last method\n",
    "inventory = Inventory('laptops.csv')                                 \n",
    "print(inventory.find_first_laptop_more_expensive(1000)) \n",
    "print(inventory.find_first_laptop_more_expensive(10000)) # likely will return no index "
   ]
  }
 ],
 "metadata": {
  "kernelspec": {
   "display_name": "Python 3 (ipykernel)",
   "language": "python",
   "name": "python3"
  },
  "language_info": {
   "codemirror_mode": {
    "name": "ipython",
    "version": 3
   },
   "file_extension": ".py",
   "mimetype": "text/x-python",
   "name": "python",
   "nbconvert_exporter": "python",
   "pygments_lexer": "ipython3",
   "version": "3.7.9"
  }
 },
 "nbformat": 4,
 "nbformat_minor": 5
}
